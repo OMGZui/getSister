{
 "cells": [
  {
   "cell_type": "code",
   "execution_count": 18,
   "metadata": {},
   "outputs": [],
   "source": [
    "# 爬取网页\n",
    "from urllib import request\n",
    "# 解析网页\n",
    "from bs4 import BeautifulSoup\n",
    "\n",
    "with request.urlopen('https://movie.douban.com/nowplaying/hangzhou/') as f:\n",
    "    html = f.read()\n",
    "    data = html.decode('utf-8')\n",
    "# print(html)\n",
    "\n",
    "soup = BeautifulSoup(data, 'html.parser')\n",
    "# print(soup.prettify())\n",
    "\n",
    "lists = soup.find_all('li', class_='list-item')\n",
    "# print(lists)\n",
    "\n",
    "item_list = list()\n",
    "for item in lists:\n",
    "    item_dict = dict()\n",
    "    item_dict['id'] = item['data-subject']\n",
    "    item_dict['name'] = item.find('li',class_='stitle').find('a')['title']\n",
    "    item_list.append(item_dict)\n",
    "print(item_list)\n",
    "\n",
    "\n"
   ]
  },
  {
   "cell_type": "code",
   "execution_count": null,
   "metadata": {},
   "outputs": [],
   "source": []
  }
 ],
 "metadata": {
  "kernelspec": {
   "display_name": "Python 3",
   "language": "python",
   "name": "python3"
  },
  "language_info": {
   "codemirror_mode": {
    "name": "ipython",
    "version": 3
   },
   "file_extension": ".py",
   "mimetype": "text/x-python",
   "name": "python",
   "nbconvert_exporter": "python",
   "pygments_lexer": "ipython3",
   "version": "3.6.3"
  }
 },
 "nbformat": 4,
 "nbformat_minor": 2
}
