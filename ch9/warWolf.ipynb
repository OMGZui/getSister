{
 "cells": [
  {
   "cell_type": "code",
   "execution_count": 19,
   "metadata": {},
   "outputs": [
    {
     "name": "stdout",
     "output_type": "stream",
     "text": [
      "[{'id': '26861685', 'name': '红海行动'}, {'id': '26393561', 'name': '小萝莉的猴神大叔'}, {'id': '26698897', 'name': '唐人街探案2'}, {'id': '26575103', 'name': '捉妖记2'}, {'id': '27176717', 'name': '熊出没·变形记'}, {'id': '25829175', 'name': '西游记女儿国'}, {'id': '27114417', 'name': '祖宗十九代'}, {'id': '3036465', 'name': '爱在记忆消逝前'}, {'id': '26603666', 'name': '妈妈咪鸭'}, {'id': '26787574', 'name': '奇迹男孩'}, {'id': '27661976', 'name': '无迹可寻'}, {'id': '26995719', 'name': '金钱世界'}, {'id': '25856453', 'name': '闺蜜2'}, {'id': '26176481', 'name': '小马宝莉大电影'}, {'id': '6874741', 'name': '无问西东'}, {'id': '27622779', 'name': '人怕出名猪怕壮'}, {'id': '26649604', 'name': '比得兔'}, {'id': '27605297', 'name': '金龟子'}, {'id': '26836837', 'name': '宇宙有爱浪漫同游'}, {'id': '26611804', 'name': '三块广告牌'}, {'id': '30152451', 'name': '厉害了，我的国'}, {'id': '28446693', 'name': '落绕'}, {'id': '25899334', 'name': '飞鸟历险记'}, {'id': '27180882', 'name': '疯狂的公牛'}, {'id': '6390825', 'name': '黑豹'}, {'id': '26972275', 'name': '恋爱回旋'}, {'id': '27085923', 'name': '灵魂当铺之时间典当'}, {'id': '26752852', 'name': '水形物语'}, {'id': '27042405', 'name': '大坏狐狸的故事'}]\n"
     ]
    }
   ],
   "source": [
    "# 爬取网页\n",
    "from urllib import request\n",
    "# 解析网页\n",
    "from bs4 import BeautifulSoup\n",
    "\n",
    "with request.urlopen('https://movie.douban.com/nowplaying/hangzhou/') as f:\n",
    "    html = f.read()\n",
    "    data = html.decode('utf-8')\n",
    "# print(html)\n",
    "\n",
    "soup = BeautifulSoup(data, 'html.parser')\n",
    "# print(soup.prettify())\n",
    "\n",
    "lists = soup.find_all('li', class_='list-item')\n",
    "# print(lists)\n",
    "\n",
    "item_list = list()\n",
    "for item in lists:\n",
    "    item_dict = dict()\n",
    "    item_dict['id'] = item['data-subject']\n",
    "    item_dict['name'] = item.find('li',class_='stitle').find('a')['title']\n",
    "    item_list.append(item_dict)\n",
    "# print(item_list)\n",
    "\n",
    "\n"
   ]
  },
  {
   "cell_type": "code",
   "execution_count": null,
   "metadata": {},
   "outputs": [],
   "source": []
  }
 ],
 "metadata": {
  "kernelspec": {
   "display_name": "Python 3",
   "language": "python",
   "name": "python3"
  },
  "language_info": {
   "codemirror_mode": {
    "name": "ipython",
    "version": 3
   },
   "file_extension": ".py",
   "mimetype": "text/x-python",
   "name": "python",
   "nbconvert_exporter": "python",
   "pygments_lexer": "ipython3",
   "version": "3.6.3"
  }
 },
 "nbformat": 4,
 "nbformat_minor": 2
}
